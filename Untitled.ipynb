{
 "cells": [
  {
   "cell_type": "code",
   "execution_count": 1,
   "id": "b19cb63e",
   "metadata": {},
   "outputs": [],
   "source": [
    "review = {'rating': [], 'reviewtext':[], 'reviewdate': [],'imageurl':[]}"
   ]
  },
  {
   "cell_type": "code",
   "execution_count": 6,
   "id": "d078658c",
   "metadata": {},
   "outputs": [],
   "source": [
    "for i in range(10):\n",
    "    review['rating'].append(10)\n",
    "    review['reviewtext'].append('sb')\n",
    "    review['reviewdate'].append(10)\n",
    "    review['imageurl'].append('./images/sb.png')\n"
   ]
  },
  {
   "cell_type": "code",
   "execution_count": 11,
   "id": "98afca4b",
   "metadata": {},
   "outputs": [],
   "source": [
    "import json\n",
    "import os\n",
    "current_directory = os.getcwd()\n",
    "file_path = os.path.join(current_directory, 'output.json')\n",
    "with open(file_path, 'w') as json_file:\n",
    "    json.dump(review, json_file, indent=2)"
   ]
  },
  {
   "cell_type": "code",
   "execution_count": null,
   "id": "be3d9f33",
   "metadata": {},
   "outputs": [],
   "source": []
  }
 ],
 "metadata": {
  "kernelspec": {
   "display_name": "Python 3 (ipykernel)",
   "language": "python",
   "name": "python3"
  },
  "language_info": {
   "codemirror_mode": {
    "name": "ipython",
    "version": 3
   },
   "file_extension": ".py",
   "mimetype": "text/x-python",
   "name": "python",
   "nbconvert_exporter": "python",
   "pygments_lexer": "ipython3",
   "version": "3.9.13"
  }
 },
 "nbformat": 4,
 "nbformat_minor": 5
}
